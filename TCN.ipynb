{
  "cells": [
    {
      "cell_type": "markdown",
      "metadata": {
        "id": "view-in-github",
        "colab_type": "text"
      },
      "source": [
        "<a href=\"https://colab.research.google.com/github/mcbhavana27/ITS/blob/main/TCN.ipynb\" target=\"_parent\"><img src=\"https://colab.research.google.com/assets/colab-badge.svg\" alt=\"Open In Colab\"/></a>"
      ]
    },
    {
      "cell_type": "code",
      "execution_count": null,
      "metadata": {
        "colab": {
          "base_uri": "https://localhost:8080/"
        },
        "id": "2urb2w8cEXm9",
        "outputId": "0bd16117-4936-4413-b807-7809c7cde459"
      },
      "outputs": [
        {
          "name": "stdout",
          "output_type": "stream",
          "text": [
            "Collecting keras-tcn\n",
            "  Downloading keras_tcn-3.4.2-py3-none-any.whl (13 kB)\n",
            "Requirement already satisfied: numpy in /usr/local/lib/python3.7/dist-packages (from keras-tcn) (1.21.5)\n",
            "Collecting tensorflow-addons\n",
            "  Downloading tensorflow_addons-0.16.1-cp37-cp37m-manylinux_2_12_x86_64.manylinux2010_x86_64.whl (1.1 MB)\n",
            "\u001b[K     |████████████████████████████████| 1.1 MB 5.8 MB/s \n",
            "\u001b[?25hRequirement already satisfied: tensorflow in /usr/local/lib/python3.7/dist-packages (from keras-tcn) (2.8.0)\n",
            "Requirement already satisfied: typing-extensions>=3.6.6 in /usr/local/lib/python3.7/dist-packages (from tensorflow->keras-tcn) (3.10.0.2)\n",
            "Requirement already satisfied: opt-einsum>=2.3.2 in /usr/local/lib/python3.7/dist-packages (from tensorflow->keras-tcn) (3.3.0)\n",
            "Requirement already satisfied: wrapt>=1.11.0 in /usr/local/lib/python3.7/dist-packages (from tensorflow->keras-tcn) (1.13.3)\n",
            "Requirement already satisfied: grpcio<2.0,>=1.24.3 in /usr/local/lib/python3.7/dist-packages (from tensorflow->keras-tcn) (1.43.0)\n",
            "Requirement already satisfied: setuptools in /usr/local/lib/python3.7/dist-packages (from tensorflow->keras-tcn) (57.4.0)\n",
            "Requirement already satisfied: libclang>=9.0.1 in /usr/local/lib/python3.7/dist-packages (from tensorflow->keras-tcn) (13.0.0)\n",
            "Requirement already satisfied: tensorflow-io-gcs-filesystem>=0.23.1 in /usr/local/lib/python3.7/dist-packages (from tensorflow->keras-tcn) (0.24.0)\n",
            "Requirement already satisfied: six>=1.12.0 in /usr/local/lib/python3.7/dist-packages (from tensorflow->keras-tcn) (1.15.0)\n",
            "Requirement already satisfied: h5py>=2.9.0 in /usr/local/lib/python3.7/dist-packages (from tensorflow->keras-tcn) (3.1.0)\n",
            "Requirement already satisfied: google-pasta>=0.1.1 in /usr/local/lib/python3.7/dist-packages (from tensorflow->keras-tcn) (0.2.0)\n",
            "Requirement already satisfied: termcolor>=1.1.0 in /usr/local/lib/python3.7/dist-packages (from tensorflow->keras-tcn) (1.1.0)\n",
            "Requirement already satisfied: tensorboard<2.9,>=2.8 in /usr/local/lib/python3.7/dist-packages (from tensorflow->keras-tcn) (2.8.0)\n",
            "Requirement already satisfied: keras-preprocessing>=1.1.1 in /usr/local/lib/python3.7/dist-packages (from tensorflow->keras-tcn) (1.1.2)\n",
            "Requirement already satisfied: absl-py>=0.4.0 in /usr/local/lib/python3.7/dist-packages (from tensorflow->keras-tcn) (1.0.0)\n",
            "Requirement already satisfied: keras<2.9,>=2.8.0rc0 in /usr/local/lib/python3.7/dist-packages (from tensorflow->keras-tcn) (2.8.0)\n",
            "Collecting tf-estimator-nightly==2.8.0.dev2021122109\n",
            "  Downloading tf_estimator_nightly-2.8.0.dev2021122109-py2.py3-none-any.whl (462 kB)\n",
            "\u001b[K     |████████████████████████████████| 462 kB 59.5 MB/s \n",
            "\u001b[?25hRequirement already satisfied: protobuf>=3.9.2 in /usr/local/lib/python3.7/dist-packages (from tensorflow->keras-tcn) (3.17.3)\n",
            "Requirement already satisfied: flatbuffers>=1.12 in /usr/local/lib/python3.7/dist-packages (from tensorflow->keras-tcn) (2.0)\n",
            "Requirement already satisfied: gast>=0.2.1 in /usr/local/lib/python3.7/dist-packages (from tensorflow->keras-tcn) (0.5.3)\n",
            "Requirement already satisfied: astunparse>=1.6.0 in /usr/local/lib/python3.7/dist-packages (from tensorflow->keras-tcn) (1.6.3)\n",
            "Requirement already satisfied: wheel<1.0,>=0.23.0 in /usr/local/lib/python3.7/dist-packages (from astunparse>=1.6.0->tensorflow->keras-tcn) (0.37.1)\n",
            "Requirement already satisfied: cached-property in /usr/local/lib/python3.7/dist-packages (from h5py>=2.9.0->tensorflow->keras-tcn) (1.5.2)\n",
            "Requirement already satisfied: markdown>=2.6.8 in /usr/local/lib/python3.7/dist-packages (from tensorboard<2.9,>=2.8->tensorflow->keras-tcn) (3.3.6)\n",
            "Requirement already satisfied: werkzeug>=0.11.15 in /usr/local/lib/python3.7/dist-packages (from tensorboard<2.9,>=2.8->tensorflow->keras-tcn) (1.0.1)\n",
            "Requirement already satisfied: google-auth-oauthlib<0.5,>=0.4.1 in /usr/local/lib/python3.7/dist-packages (from tensorboard<2.9,>=2.8->tensorflow->keras-tcn) (0.4.6)\n",
            "Requirement already satisfied: tensorboard-data-server<0.7.0,>=0.6.0 in /usr/local/lib/python3.7/dist-packages (from tensorboard<2.9,>=2.8->tensorflow->keras-tcn) (0.6.1)\n",
            "Requirement already satisfied: tensorboard-plugin-wit>=1.6.0 in /usr/local/lib/python3.7/dist-packages (from tensorboard<2.9,>=2.8->tensorflow->keras-tcn) (1.8.1)\n",
            "Requirement already satisfied: requests<3,>=2.21.0 in /usr/local/lib/python3.7/dist-packages (from tensorboard<2.9,>=2.8->tensorflow->keras-tcn) (2.23.0)\n",
            "Requirement already satisfied: google-auth<3,>=1.6.3 in /usr/local/lib/python3.7/dist-packages (from tensorboard<2.9,>=2.8->tensorflow->keras-tcn) (1.35.0)\n",
            "Requirement already satisfied: cachetools<5.0,>=2.0.0 in /usr/local/lib/python3.7/dist-packages (from google-auth<3,>=1.6.3->tensorboard<2.9,>=2.8->tensorflow->keras-tcn) (4.2.4)\n",
            "Requirement already satisfied: pyasn1-modules>=0.2.1 in /usr/local/lib/python3.7/dist-packages (from google-auth<3,>=1.6.3->tensorboard<2.9,>=2.8->tensorflow->keras-tcn) (0.2.8)\n",
            "Requirement already satisfied: rsa<5,>=3.1.4 in /usr/local/lib/python3.7/dist-packages (from google-auth<3,>=1.6.3->tensorboard<2.9,>=2.8->tensorflow->keras-tcn) (4.8)\n",
            "Requirement already satisfied: requests-oauthlib>=0.7.0 in /usr/local/lib/python3.7/dist-packages (from google-auth-oauthlib<0.5,>=0.4.1->tensorboard<2.9,>=2.8->tensorflow->keras-tcn) (1.3.1)\n",
            "Requirement already satisfied: importlib-metadata>=4.4 in /usr/local/lib/python3.7/dist-packages (from markdown>=2.6.8->tensorboard<2.9,>=2.8->tensorflow->keras-tcn) (4.11.1)\n",
            "Requirement already satisfied: zipp>=0.5 in /usr/local/lib/python3.7/dist-packages (from importlib-metadata>=4.4->markdown>=2.6.8->tensorboard<2.9,>=2.8->tensorflow->keras-tcn) (3.7.0)\n",
            "Requirement already satisfied: pyasn1<0.5.0,>=0.4.6 in /usr/local/lib/python3.7/dist-packages (from pyasn1-modules>=0.2.1->google-auth<3,>=1.6.3->tensorboard<2.9,>=2.8->tensorflow->keras-tcn) (0.4.8)\n",
            "Requirement already satisfied: certifi>=2017.4.17 in /usr/local/lib/python3.7/dist-packages (from requests<3,>=2.21.0->tensorboard<2.9,>=2.8->tensorflow->keras-tcn) (2021.10.8)\n",
            "Requirement already satisfied: chardet<4,>=3.0.2 in /usr/local/lib/python3.7/dist-packages (from requests<3,>=2.21.0->tensorboard<2.9,>=2.8->tensorflow->keras-tcn) (3.0.4)\n",
            "Requirement already satisfied: idna<3,>=2.5 in /usr/local/lib/python3.7/dist-packages (from requests<3,>=2.21.0->tensorboard<2.9,>=2.8->tensorflow->keras-tcn) (2.10)\n",
            "Requirement already satisfied: urllib3!=1.25.0,!=1.25.1,<1.26,>=1.21.1 in /usr/local/lib/python3.7/dist-packages (from requests<3,>=2.21.0->tensorboard<2.9,>=2.8->tensorflow->keras-tcn) (1.24.3)\n",
            "Requirement already satisfied: oauthlib>=3.0.0 in /usr/local/lib/python3.7/dist-packages (from requests-oauthlib>=0.7.0->google-auth-oauthlib<0.5,>=0.4.1->tensorboard<2.9,>=2.8->tensorflow->keras-tcn) (3.2.0)\n",
            "Requirement already satisfied: typeguard>=2.7 in /usr/local/lib/python3.7/dist-packages (from tensorflow-addons->keras-tcn) (2.7.1)\n",
            "Installing collected packages: tf-estimator-nightly, tensorflow-addons, keras-tcn\n",
            "Successfully installed keras-tcn-3.4.2 tensorflow-addons-0.16.1 tf-estimator-nightly-2.8.0.dev2021122109\n"
          ]
        }
      ],
      "source": [
        "import numpy as np\n",
        "import pandas as pd\n",
        "from glob import glob\n",
        "from keras.models import Sequential\n",
        "from keras.metrics import MeanSquaredError as mae\n",
        "from keras.layers import LSTM,Dense,Dropout\n",
        "import matplotlib.pyplot as plt\n",
        "from sklearn.preprocessing import MinMaxScaler\n",
        "from sklearn.metrics import mean_squared_error as mse\n",
        "from sklearn.metrics import mean_absolute_error as mae\n",
        "from sklearn.metrics import mean_absolute_percentage_error as mape\n",
        "from sklearn.model_selection import train_test_split\n",
        "from math import sqrt\n",
        "#from bokeh.plotting import figure,output_file, show\n",
        "import datetime\n",
        "!pip install keras-tcn\n",
        "from tcn import TCN\n",
        "from tcn import tcn_full_summary\n",
        "#from openpyxl import Workbook,load_workbook"
      ]
    },
    {
      "cell_type": "code",
      "execution_count": null,
      "metadata": {
        "colab": {
          "base_uri": "https://localhost:8080/"
        },
        "id": "XKTCxqVcGhTF",
        "outputId": "b4a06ba9-5191-4fff-bce4-7a7866603ee8"
      },
      "outputs": [
        {
          "name": "stdout",
          "output_type": "stream",
          "text": [
            "Mounted at /content/drive\n"
          ]
        }
      ],
      "source": [
        "from google.colab import drive\n",
        "drive.mount('/content/drive')\n"
      ]
    },
    {
      "cell_type": "code",
      "execution_count": null,
      "metadata": {
        "id": "GsdJvpg2GheU"
      },
      "outputs": [],
      "source": [
        "!cp  /content/drive/My\\ Drive/DATA.zip /content/\n",
        "!unzip DATA.zip"
      ]
    },
    {
      "cell_type": "code",
      "execution_count": null,
      "metadata": {
        "colab": {
          "base_uri": "https://localhost:8080/"
        },
        "id": "BH7WWnZKEXnF",
        "outputId": "f88c9a8a-946c-4c60-df1b-b225202602aa"
      },
      "outputs": [
        {
          "name": "stdout",
          "output_type": "stream",
          "text": [
            "['/content/DATA/402214/5.csv', '/content/DATA/402214/4.csv', '/content/DATA/402214/7.csv', '/content/DATA/402214/2.csv', '/content/DATA/402214/1.csv', '/content/DATA/402214/11.csv', '/content/DATA/402214/10.csv', '/content/DATA/402214/9.csv', '/content/DATA/402214/12.csv', '/content/DATA/402214/3.csv', '/content/DATA/402214/8.csv', '/content/DATA/402214/6.csv', '/content/DATA/402214/13.csv']\n"
          ]
        }
      ],
      "source": [
        "filenames = glob('/content/DATA/402214'+'/*.csv')\n",
        "print(filenames)"
      ]
    },
    {
      "cell_type": "code",
      "execution_count": null,
      "metadata": {
        "id": "nXzKD_q0EXnI"
      },
      "outputs": [],
      "source": [
        "data = []\n",
        "for filename in filenames:\n",
        "    data.append(pd.read_csv(filename))\n",
        "full_data =pd.concat(data,ignore_index=True)"
      ]
    },
    {
      "cell_type": "code",
      "execution_count": null,
      "metadata": {
        "id": "FklfPzOVEXnJ"
      },
      "outputs": [],
      "source": [
        "cols = list(full_data)[2]"
      ]
    },
    {
      "cell_type": "code",
      "execution_count": null,
      "metadata": {
        "id": "3J7jopIdEXnL"
      },
      "outputs": [],
      "source": [
        "training_data=full_data[cols].astype(str)\n"
      ]
    },
    {
      "cell_type": "code",
      "execution_count": null,
      "metadata": {
        "id": "fvD5F9GlEXnM"
      },
      "outputs": [],
      "source": [
        "training_data = np.array(training_data).reshape(len(training_data),1)"
      ]
    },
    {
      "cell_type": "code",
      "execution_count": null,
      "metadata": {
        "id": "xnWWgAHNEXnO"
      },
      "outputs": [],
      "source": [
        "scaler =MinMaxScaler(feature_range=(0,1))\n",
        "training_scaled = scaler.fit_transform(training_data)"
      ]
    },
    {
      "cell_type": "code",
      "execution_count": null,
      "metadata": {
        "colab": {
          "base_uri": "https://localhost:8080/"
        },
        "id": "EPG5vFY0EXnP",
        "outputId": "f99a125d-ab99-4f10-eb11-6dfb42d58c39"
      },
      "outputs": [
        {
          "data": {
            "text/plain": [
              "(array([[0.17647059],\n",
              "        [0.17647059],\n",
              "        [0.16993464],\n",
              "        [0.16339869],\n",
              "        [0.15686275],\n",
              "        [0.14379085],\n",
              "        [0.1372549 ],\n",
              "        [0.12418301],\n",
              "        [0.11764706],\n",
              "        [0.11111111],\n",
              "        [0.10457516],\n",
              "        [0.10457516],\n",
              "        [0.09803922],\n",
              "        [0.09150327],\n",
              "        [0.09150327]]), 0.08496732026143791)"
            ]
          },
          "execution_count": 16,
          "metadata": {},
          "output_type": "execute_result"
        }
      ],
      "source": [
        "training_scaled[:15],training_scaled[15,-1]"
      ]
    },
    {
      "cell_type": "code",
      "execution_count": null,
      "metadata": {
        "id": "AEaJN1m_EXnR"
      },
      "outputs": [],
      "source": [
        "n_steps = 30"
      ]
    },
    {
      "cell_type": "code",
      "execution_count": null,
      "metadata": {
        "id": "wLWUSu5PEXnU"
      },
      "outputs": [],
      "source": [
        "def split_set1(X):\n",
        "    S = []\n",
        "    HS= []\n",
        "    i=0\n",
        "    while i < len(X)-n_steps:\n",
        "        l=[]\n",
        "        l.append(X[i:n_steps+i])\n",
        "        S.append(l)\n",
        "        l=[]\n",
        "        l.append(X[n_steps+i])\n",
        "        HS.append(l)\n",
        "        i+=1\n",
        "    S=np.array(S)\n",
        "    HS=np.array(HS)\n",
        "    S=S.reshape(S.shape[0],S.shape[2],S.shape[3])\n",
        "    HS=HS.reshape(HS.shape[0],HS.shape[1])\n",
        "    return S,HS\n"
      ]
    },
    {
      "cell_type": "code",
      "execution_count": null,
      "metadata": {
        "id": "38CXq0z0EXnW"
      },
      "outputs": [],
      "source": [
        "X,Y = split_set1(training_scaled)"
      ]
    },
    {
      "cell_type": "code",
      "execution_count": null,
      "metadata": {
        "id": "FRXfE078EXnX"
      },
      "outputs": [],
      "source": [
        "t_d=len(training_scaled)//5"
      ]
    },
    {
      "cell_type": "code",
      "execution_count": null,
      "metadata": {
        "colab": {
          "base_uri": "https://localhost:8080/"
        },
        "id": "XUMkweO2EXnZ",
        "outputId": "6bd04dd0-73e9-4ad4-f3b9-916657bda893"
      },
      "outputs": [
        {
          "data": {
            "text/plain": [
              "5238"
            ]
          },
          "execution_count": 21,
          "metadata": {},
          "output_type": "execute_result"
        }
      ],
      "source": [
        "t_d"
      ]
    },
    {
      "cell_type": "code",
      "execution_count": null,
      "metadata": {
        "id": "0EEB6BUhEXna"
      },
      "outputs": [],
      "source": [
        "train_X,test_X,train_Y,test_Y = X[:-t_d],X[-t_d:-1],Y[:-t_d],Y[-t_d:-1]"
      ]
    },
    {
      "cell_type": "code",
      "execution_count": null,
      "metadata": {
        "colab": {
          "base_uri": "https://localhost:8080/"
        },
        "id": "G2kVIoP4EXnb",
        "outputId": "15c6ff6e-d26e-4586-ebc5-5236f85a1ce8"
      },
      "outputs": [
        {
          "data": {
            "text/plain": [
              "5237"
            ]
          },
          "execution_count": 23,
          "metadata": {},
          "output_type": "execute_result"
        }
      ],
      "source": [
        "len(test_X)"
      ]
    },
    {
      "cell_type": "code",
      "execution_count": null,
      "metadata": {
        "id": "6t1E7NnPEXnc"
      },
      "outputs": [],
      "source": [
        "test_Y=test_Y.reshape(test_Y.shape[0],1)"
      ]
    },
    {
      "cell_type": "code",
      "execution_count": null,
      "metadata": {
        "colab": {
          "base_uri": "https://localhost:8080/"
        },
        "id": "pKJwqI2REXnd",
        "outputId": "4cb1e3ab-003e-46dc-baa7-de4e4ef5170c"
      },
      "outputs": [
        {
          "data": {
            "text/plain": [
              "(20925, 1)"
            ]
          },
          "execution_count": 25,
          "metadata": {},
          "output_type": "execute_result"
        }
      ],
      "source": [
        "train_Y.shape"
      ]
    },
    {
      "cell_type": "code",
      "execution_count": null,
      "metadata": {
        "id": "4bwkuVuGEXne"
      },
      "outputs": [],
      "source": [
        "def Create_Model():\n",
        "    Model=Sequential()\n",
        "    Model.add(TCN(24,15,2,dilations=(1,2,4,8,16),padding = 'causal',use_skip_connections= True,activation ='relu',dropout_rate=.1,input_shape = (n_steps,1)))\n",
        "    Model.add(Dense(10,activation='relu'))\n",
        "    Model.add(Dense(1))\n",
        "    Model.compile(optimizer=\"adam\", loss = \"mse\")\n",
        "    return Model\n"
      ]
    },
    {
      "cell_type": "code",
      "execution_count": null,
      "metadata": {
        "id": "tGjY79pUEXnf"
      },
      "outputs": [],
      "source": [
        "model = Create_Model()"
      ]
    },
    {
      "cell_type": "code",
      "execution_count": null,
      "metadata": {
        "colab": {
          "background_save": true,
          "base_uri": "https://localhost:8080/"
        },
        "id": "aNbKtpfHEXnj",
        "outputId": "dbd15fdd-39a4-487a-894f-5e06f5cc9d7b"
      },
      "outputs": [
        {
          "name": "stdout",
          "output_type": "stream",
          "text": [
            "Epoch 1/100\n",
            "556/556 [==============================] - 62s 103ms/step - loss: 0.0541 - val_loss: 0.0026\n",
            "Epoch 2/100\n",
            "556/556 [==============================] - 57s 103ms/step - loss: 0.0032 - val_loss: 0.0014\n",
            "Epoch 3/100\n",
            "556/556 [==============================] - 59s 107ms/step - loss: 0.0018 - val_loss: 0.0013\n",
            "Epoch 4/100\n",
            "556/556 [==============================] - 61s 109ms/step - loss: 0.0012 - val_loss: 0.0010\n",
            "Epoch 5/100\n",
            "556/556 [==============================] - 60s 108ms/step - loss: 8.5590e-04 - val_loss: 9.2502e-04\n",
            "Epoch 6/100\n",
            "556/556 [==============================] - 60s 107ms/step - loss: 6.7032e-04 - val_loss: 9.0069e-04\n",
            "Epoch 7/100\n",
            "556/556 [==============================] - 58s 105ms/step - loss: 5.5766e-04 - val_loss: 6.6703e-04\n",
            "Epoch 8/100\n",
            "556/556 [==============================] - 59s 106ms/step - loss: 5.0436e-04 - val_loss: 7.8929e-04\n",
            "Epoch 9/100\n",
            "556/556 [==============================] - 59s 107ms/step - loss: 4.2140e-04 - val_loss: 6.6331e-04\n",
            "Epoch 10/100\n",
            "556/556 [==============================] - 59s 107ms/step - loss: 4.1780e-04 - val_loss: 6.8385e-04\n",
            "Epoch 11/100\n",
            "556/556 [==============================] - 60s 107ms/step - loss: 3.3577e-04 - val_loss: 7.0642e-04\n",
            "Epoch 12/100\n",
            "556/556 [==============================] - 59s 106ms/step - loss: 3.3150e-04 - val_loss: 6.7339e-04\n",
            "Epoch 13/100\n",
            "556/556 [==============================] - 60s 108ms/step - loss: 2.8299e-04 - val_loss: 7.0575e-04\n",
            "Epoch 14/100\n",
            "556/556 [==============================] - 61s 110ms/step - loss: 2.5604e-04 - val_loss: 7.3997e-04\n",
            "Epoch 15/100\n",
            "556/556 [==============================] - 60s 108ms/step - loss: 2.3817e-04 - val_loss: 6.9641e-04\n",
            "Epoch 16/100\n",
            "556/556 [==============================] - 61s 110ms/step - loss: 2.2134e-04 - val_loss: 7.1088e-04\n",
            "Epoch 17/100\n",
            "556/556 [==============================] - 61s 109ms/step - loss: 2.1331e-04 - val_loss: 7.3856e-04\n",
            "Epoch 18/100\n",
            "556/556 [==============================] - 63s 113ms/step - loss: 1.8639e-04 - val_loss: 6.9085e-04\n",
            "Epoch 19/100\n",
            "556/556 [==============================] - 66s 119ms/step - loss: 1.8309e-04 - val_loss: 8.5422e-04\n",
            "Epoch 20/100\n",
            "556/556 [==============================] - 67s 121ms/step - loss: 1.7209e-04 - val_loss: 6.9155e-04\n",
            "Epoch 21/100\n",
            "556/556 [==============================] - 70s 125ms/step - loss: 1.6095e-04 - val_loss: 7.2506e-04\n",
            "Epoch 22/100\n",
            "556/556 [==============================] - 69s 125ms/step - loss: 1.4110e-04 - val_loss: 6.9631e-04\n",
            "Epoch 23/100\n",
            "556/556 [==============================] - 71s 128ms/step - loss: 1.6204e-04 - val_loss: 7.1392e-04\n",
            "Epoch 24/100\n",
            "556/556 [==============================] - 65s 117ms/step - loss: 1.7525e-04 - val_loss: 6.8503e-04\n",
            "Epoch 25/100\n",
            "556/556 [==============================] - 64s 116ms/step - loss: 1.4581e-04 - val_loss: 7.0411e-04\n",
            "Epoch 26/100\n",
            "556/556 [==============================] - 64s 115ms/step - loss: 1.2751e-04 - val_loss: 6.9849e-04\n",
            "Epoch 27/100\n",
            "556/556 [==============================] - 67s 121ms/step - loss: 1.2161e-04 - val_loss: 7.1793e-04\n",
            "Epoch 28/100\n",
            "556/556 [==============================] - 69s 124ms/step - loss: 1.2306e-04 - val_loss: 7.1488e-04\n",
            "Epoch 29/100\n",
            "556/556 [==============================] - 69s 124ms/step - loss: 1.1654e-04 - val_loss: 7.1877e-04\n",
            "Epoch 30/100\n",
            "556/556 [==============================] - 72s 129ms/step - loss: 1.3105e-04 - val_loss: 7.1039e-04\n",
            "Epoch 31/100\n",
            "556/556 [==============================] - 70s 125ms/step - loss: 1.3678e-04 - val_loss: 7.3519e-04\n",
            "Epoch 32/100\n",
            "556/556 [==============================] - 67s 121ms/step - loss: 1.3775e-04 - val_loss: 7.3629e-04\n",
            "Epoch 33/100\n",
            "556/556 [==============================] - 67s 120ms/step - loss: 1.1195e-04 - val_loss: 7.4103e-04\n",
            "Epoch 34/100\n",
            "556/556 [==============================] - 67s 121ms/step - loss: 1.0965e-04 - val_loss: 7.4367e-04\n",
            "Epoch 35/100\n",
            "556/556 [==============================] - 71s 127ms/step - loss: 1.2085e-04 - val_loss: 7.3394e-04\n",
            "Epoch 36/100\n",
            "556/556 [==============================] - 67s 121ms/step - loss: 1.0531e-04 - val_loss: 7.1911e-04\n",
            "Epoch 37/100\n",
            "556/556 [==============================] - 66s 119ms/step - loss: 1.2969e-04 - val_loss: 7.4150e-04\n",
            "Epoch 38/100\n",
            "556/556 [==============================] - 66s 118ms/step - loss: 1.3111e-04 - val_loss: 7.3890e-04\n",
            "Epoch 39/100\n",
            "556/556 [==============================] - 65s 117ms/step - loss: 1.0571e-04 - val_loss: 7.7261e-04\n",
            "Epoch 40/100\n",
            "556/556 [==============================] - 67s 120ms/step - loss: 1.0108e-04 - val_loss: 7.3595e-04\n",
            "Epoch 41/100\n",
            "556/556 [==============================] - 67s 121ms/step - loss: 1.0491e-04 - val_loss: 7.4013e-04\n",
            "Epoch 42/100\n",
            "556/556 [==============================] - 67s 121ms/step - loss: 1.0679e-04 - val_loss: 7.4645e-04\n",
            "Epoch 43/100\n",
            "556/556 [==============================] - 67s 121ms/step - loss: 1.1428e-04 - val_loss: 7.5058e-04\n",
            "Epoch 44/100\n",
            "556/556 [==============================] - 68s 122ms/step - loss: 1.0329e-04 - val_loss: 7.2710e-04\n",
            "Epoch 45/100\n",
            "556/556 [==============================] - 61s 110ms/step - loss: 1.0682e-04 - val_loss: 7.3478e-04\n",
            "Epoch 46/100\n",
            "556/556 [==============================] - 64s 115ms/step - loss: 1.0369e-04 - val_loss: 7.3871e-04\n",
            "Epoch 47/100\n",
            "556/556 [==============================] - 65s 117ms/step - loss: 1.0573e-04 - val_loss: 7.4758e-04\n",
            "Epoch 48/100\n",
            "556/556 [==============================] - 66s 119ms/step - loss: 1.0854e-04 - val_loss: 7.3705e-04\n",
            "Epoch 49/100\n",
            "556/556 [==============================] - 66s 119ms/step - loss: 9.7983e-05 - val_loss: 7.9205e-04\n",
            "Epoch 50/100\n",
            "556/556 [==============================] - 67s 121ms/step - loss: 1.2112e-04 - val_loss: 7.5849e-04\n",
            "Epoch 51/100\n",
            "556/556 [==============================] - 66s 118ms/step - loss: 1.1844e-04 - val_loss: 7.3425e-04\n",
            "Epoch 52/100\n",
            "556/556 [==============================] - 64s 115ms/step - loss: 9.6020e-05 - val_loss: 7.5508e-04\n",
            "Epoch 53/100\n",
            "556/556 [==============================] - 64s 116ms/step - loss: 1.0449e-04 - val_loss: 7.3597e-04\n",
            "Epoch 54/100\n",
            "556/556 [==============================] - 66s 119ms/step - loss: 1.2207e-04 - val_loss: 7.5541e-04\n",
            "Epoch 55/100\n",
            "556/556 [==============================] - 68s 123ms/step - loss: 1.0266e-04 - val_loss: 7.5079e-04\n",
            "Epoch 56/100\n",
            "556/556 [==============================] - 66s 119ms/step - loss: 9.3091e-05 - val_loss: 7.4083e-04\n",
            "Epoch 57/100\n",
            "556/556 [==============================] - 69s 125ms/step - loss: 1.0979e-04 - val_loss: 7.4893e-04\n",
            "Epoch 58/100\n",
            "556/556 [==============================] - 66s 119ms/step - loss: 9.2616e-05 - val_loss: 7.3685e-04\n",
            "Epoch 59/100\n",
            "556/556 [==============================] - 66s 118ms/step - loss: 9.3254e-05 - val_loss: 7.3193e-04\n",
            "Epoch 60/100\n",
            "556/556 [==============================] - 65s 117ms/step - loss: 9.0092e-05 - val_loss: 7.4496e-04\n",
            "Epoch 61/100\n",
            "556/556 [==============================] - 67s 120ms/step - loss: 8.7621e-05 - val_loss: 7.7081e-04\n",
            "Epoch 62/100\n",
            "556/556 [==============================] - 66s 119ms/step - loss: 1.0294e-04 - val_loss: 7.7037e-04\n",
            "Epoch 63/100\n",
            "556/556 [==============================] - 59s 107ms/step - loss: 9.3180e-05 - val_loss: 7.5241e-04\n",
            "Epoch 64/100\n",
            "556/556 [==============================] - 60s 108ms/step - loss: 9.5304e-05 - val_loss: 7.5569e-04\n",
            "Epoch 65/100\n",
            "556/556 [==============================] - 60s 108ms/step - loss: 9.4951e-05 - val_loss: 7.4441e-04\n",
            "Epoch 66/100\n",
            "556/556 [==============================] - 61s 110ms/step - loss: 9.3121e-05 - val_loss: 7.5186e-04\n",
            "Epoch 67/100\n",
            "556/556 [==============================] - 63s 113ms/step - loss: 9.2470e-05 - val_loss: 7.7160e-04\n",
            "Epoch 68/100\n",
            "556/556 [==============================] - 64s 116ms/step - loss: 9.6915e-05 - val_loss: 7.5575e-04\n",
            "Epoch 69/100\n",
            "556/556 [==============================] - 63s 113ms/step - loss: 1.0515e-04 - val_loss: 7.5282e-04\n",
            "Epoch 70/100\n",
            "556/556 [==============================] - 63s 113ms/step - loss: 1.1069e-04 - val_loss: 7.5424e-04\n",
            "Epoch 71/100\n",
            "556/556 [==============================] - 65s 117ms/step - loss: 9.0873e-05 - val_loss: 7.5575e-04\n",
            "Epoch 72/100\n",
            "556/556 [==============================] - 66s 119ms/step - loss: 9.1255e-05 - val_loss: 7.5077e-04\n",
            "Epoch 73/100\n",
            "556/556 [==============================] - 67s 121ms/step - loss: 8.9100e-05 - val_loss: 7.7066e-04\n",
            "Epoch 74/100\n",
            "556/556 [==============================] - 68s 123ms/step - loss: 1.0673e-04 - val_loss: 7.6178e-04\n",
            "Epoch 75/100\n",
            "556/556 [==============================] - 68s 122ms/step - loss: 8.9999e-05 - val_loss: 7.4861e-04\n",
            "Epoch 76/100\n",
            "556/556 [==============================] - 75s 135ms/step - loss: 9.9806e-05 - val_loss: 7.8230e-04\n",
            "Epoch 77/100\n",
            "556/556 [==============================] - 77s 138ms/step - loss: 8.7800e-05 - val_loss: 7.4770e-04\n",
            "Epoch 78/100\n",
            "556/556 [==============================] - 70s 127ms/step - loss: 8.8988e-05 - val_loss: 7.4446e-04\n",
            "Epoch 79/100\n",
            "556/556 [==============================] - 73s 132ms/step - loss: 9.8636e-05 - val_loss: 7.4828e-04\n",
            "Epoch 80/100\n",
            "556/556 [==============================] - 73s 131ms/step - loss: 9.2008e-05 - val_loss: 7.5808e-04\n",
            "Epoch 81/100\n",
            "556/556 [==============================] - 75s 135ms/step - loss: 9.8821e-05 - val_loss: 7.4762e-04\n",
            "Epoch 82/100\n",
            "556/556 [==============================] - 68s 123ms/step - loss: 9.1112e-05 - val_loss: 7.5557e-04\n",
            "Epoch 83/100\n",
            "378/556 [===================>..........] - ETA: 21s - loss: 9.9787e-05"
          ]
        }
      ],
      "source": [
        "history=model.fit(train_X,train_Y,epochs=100,validation_split=.15, verbose=1)"
      ]
    },
    {
      "cell_type": "code",
      "execution_count": null,
      "metadata": {
        "id": "JcZ9D6GiEXnm",
        "outputId": "c009ab5f-c14d-434c-baa3-bf78bc5e53e4"
      },
      "outputs": [
        {
          "name": "stdout",
          "output_type": "stream",
          "text": [
            "Model: \"sequential\"\n",
            "_________________________________________________________________\n",
            "Layer (type)                 Output Shape              Param #   \n",
            "=================================================================\n",
            "tcn (TCN)                    (None, 24)                165048    \n",
            "_________________________________________________________________\n",
            "dense (Dense)                (None, 10)                250       \n",
            "_________________________________________________________________\n",
            "dense_1 (Dense)              (None, 1)                 11        \n",
            "=================================================================\n",
            "Total params: 165,309\n",
            "Trainable params: 165,309\n",
            "Non-trainable params: 0\n",
            "_________________________________________________________________\n"
          ]
        }
      ],
      "source": [
        "model.summary()"
      ]
    },
    {
      "cell_type": "code",
      "execution_count": null,
      "metadata": {
        "id": "QjEsJa-2EXnn",
        "outputId": "3c687c02-2beb-4ad7-c948-80574deb4645"
      },
      "outputs": [
        {
          "data": {
            "image/png": "[encoded data removed]",
            "text/plain": [
              "<Figure size 432x288 with 1 Axes>"
            ]
          },
          "metadata": {},
          "output_type": "display_data"
        }
      ],
      "source": [
        "plt.plot(history.history[\"loss\"],color='green')\n",
        "plt.plot(history.history[\"val_loss\"],color='blue')\n",
        "plt.title('model loss')\n",
        "plt.ylabel('loss')\n",
        "plt.xlabel('epoch')\n",
        "plt.show()"
      ]
    },
    {
      "cell_type": "code",
      "execution_count": null,
      "metadata": {
        "id": "CmJ7obZdEXno"
      },
      "outputs": [],
      "source": [
        "y_predict_scaled =model.predict(test_X)"
      ]
    },
    {
      "cell_type": "code",
      "execution_count": null,
      "metadata": {
        "id": "UGG1kaSyEXnp",
        "outputId": "491fc45e-21f4-47e2-9b95-11f77ed58c7f"
      },
      "outputs": [
        {
          "data": {
            "text/plain": [
              "(5237, 1)"
            ]
          },
          "execution_count": 24,
          "metadata": {},
          "output_type": "execute_result"
        }
      ],
      "source": [
        "y_predict_scaled.shape"
      ]
    },
    {
      "cell_type": "code",
      "execution_count": null,
      "metadata": {
        "id": "FtIamvPpEXnq"
      },
      "outputs": [],
      "source": [
        "y_predict = scaler.inverse_transform(y_predict_scaled)"
      ]
    },
    {
      "cell_type": "code",
      "execution_count": null,
      "metadata": {
        "id": "zS9wGzLVEXnr"
      },
      "outputs": [],
      "source": [
        "test_Y = scaler.inverse_transform(test_Y)"
      ]
    },
    {
      "cell_type": "code",
      "execution_count": null,
      "metadata": {
        "id": "Xs41XamjEXnr",
        "outputId": "7d53ecd9-ed60-4441-dea4-3ea0f68f5185"
      },
      "outputs": [
        {
          "name": "stdout",
          "output_type": "stream",
          "text": [
            "0.9815068054636263\n"
          ]
        }
      ],
      "source": [
        "print(mae(y_predict,test_Y))\n"
      ]
    },
    {
      "cell_type": "code",
      "execution_count": null,
      "metadata": {
        "id": "hg1fbQkrEXns",
        "outputId": "7ff6f863-c28a-4540-c19a-c0ee85392d39"
      },
      "outputs": [
        {
          "name": "stdout",
          "output_type": "stream",
          "text": [
            "2.083161881250568\n"
          ]
        }
      ],
      "source": [
        "print(sqrt(mse(y_predict,test_Y)))"
      ]
    },
    {
      "cell_type": "code",
      "execution_count": null,
      "metadata": {
        "id": "uACqflb4EXnt",
        "outputId": "4d685cb0-ea82-4952-c8ba-4e1c478b5791"
      },
      "outputs": [
        {
          "name": "stdout",
          "output_type": "stream",
          "text": [
            "0.023051195424683903\n"
          ]
        }
      ],
      "source": [
        "print(mape(y_predict,test_Y))"
      ]
    },
    {
      "cell_type": "code",
      "execution_count": null,
      "metadata": {
        "id": "d4iIBNvHEXnt",
        "outputId": "38ce514d-07f1-4ccd-f529-a87c4b2303d9"
      },
      "outputs": [
        {
          "name": "stdout",
          "output_type": "stream",
          "text": [
            "[99.32752]\n"
          ]
        }
      ],
      "source": [
        "print(y_predict[0])"
      ]
    },
    {
      "cell_type": "code",
      "execution_count": null,
      "metadata": {
        "id": "siaD7IXsEXnu",
        "outputId": "d9089dd9-cb13-4710-e80f-30251fb9d8da",
        "scrolled": true
      },
      "outputs": [
        {
          "data": {
            "text/plain": [
              "5237"
            ]
          },
          "execution_count": 31,
          "metadata": {},
          "output_type": "execute_result"
        }
      ],
      "source": [
        "len(test_X)"
      ]
    },
    {
      "cell_type": "code",
      "execution_count": null,
      "metadata": {
        "id": "8SlzGagpEXnw"
      },
      "outputs": [],
      "source": [
        "Error=[]\n",
        "for i in range(len(test_Y)):\n",
        "    Error.append(abs(y_predict[i]-test_Y[i]))"
      ]
    },
    {
      "cell_type": "code",
      "execution_count": null,
      "metadata": {
        "id": "uZd_8A-HEXnx"
      },
      "outputs": [],
      "source": [
        "wb = load_workbook('Test.xlsx')\n",
        "ws = wb['TCN1']\n",
        "ws = wb.active\n",
        "for i in range(len(test_Y)):\n",
        "    k=i+2\n",
        "    ws['A'+str(k)]=test_Y[i][0]\n",
        "    ws['B'+str(k)]=y_predict[i][0]\n",
        "    ws['C'+str(k)]=Error[i][0]\n",
        "wb.save('Test.xlsx')"
      ]
    },
    {
      "cell_type": "code",
      "execution_count": null,
      "metadata": {
        "id": "J0x3Xu4zEXnx"
      },
      "outputs": [],
      "source": []
    }
  ],
  "metadata": {
    "colab": {
      "provenance": [],
      "include_colab_link": true
    },
    "kernelspec": {
      "display_name": "Python 3",
      "language": "python",
      "name": "python3"
    },
    "language_info": {
      "codemirror_mode": {
        "name": "ipython",
        "version": 3
      },
      "file_extension": ".py",
      "mimetype": "text/x-python",
      "name": "python",
      "nbconvert_exporter": "python",
      "pygments_lexer": "ipython3",
      "version": "3.8.8"
    }
  },
  "nbformat": 4,
  "nbformat_minor": 0
}