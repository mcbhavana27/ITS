{
  "cells": [
    {
      "cell_type": "markdown",
      "metadata": {
        "id": "view-in-github",
        "colab_type": "text"
      },
      "source": [
        "<a href=\"https://colab.research.google.com/github/mcbhavana27/ITS/blob/main/nas_TCN.ipynb\" target=\"_parent\"><img src=\"https://colab.research.google.com/assets/colab-badge.svg\" alt=\"Open In Colab\"/></a>"
      ]
    },
    {
      "cell_type": "code",
      "execution_count": null,
      "metadata": {
        "colab": {
          "base_uri": "https://localhost:8080/"
        },
        "id": "2urb2w8cEXm9",
        "outputId": "fb1bdc12-8d4a-4491-e018-1aa053b0ab5a"
      },
      "outputs": [
        {
          "output_type": "stream",
          "name": "stdout",
          "text": [
            "Looking in indexes: https://pypi.org/simple, https://us-python.pkg.dev/colab-wheels/public/simple/\n",
            "Collecting keras-tcn\n",
            "  Downloading keras_tcn-3.5.0-py3-none-any.whl (13 kB)\n",
            "Requirement already satisfied: numpy in /usr/local/lib/python3.8/dist-packages (from keras-tcn) (1.21.6)\n",
            "Collecting tensorflow-addons\n",
            "  Downloading tensorflow_addons-0.19.0-cp38-cp38-manylinux_2_17_x86_64.manylinux2014_x86_64.whl (1.1 MB)\n",
            "\u001b[2K     \u001b[90m━━━━━━━━━━━━━━━━━━━━━━━━━━━━━━━━━━━━━━━━\u001b[0m \u001b[32m1.1/1.1 MB\u001b[0m \u001b[31m11.3 MB/s\u001b[0m eta \u001b[36m0:00:00\u001b[0m\n",
            "\u001b[?25hRequirement already satisfied: tensorflow in /usr/local/lib/python3.8/dist-packages (from keras-tcn) (2.11.0)\n",
            "Requirement already satisfied: keras<2.12,>=2.11.0 in /usr/local/lib/python3.8/dist-packages (from tensorflow->keras-tcn) (2.11.0)\n",
            "Requirement already satisfied: opt-einsum>=2.3.2 in /usr/local/lib/python3.8/dist-packages (from tensorflow->keras-tcn) (3.3.0)\n",
            "Requirement already satisfied: flatbuffers>=2.0 in /usr/local/lib/python3.8/dist-packages (from tensorflow->keras-tcn) (23.1.21)\n",
            "Requirement already satisfied: packaging in /usr/local/lib/python3.8/dist-packages (from tensorflow->keras-tcn) (23.0)\n",
            "Requirement already satisfied: tensorboard<2.12,>=2.11 in /usr/local/lib/python3.8/dist-packages (from tensorflow->keras-tcn) (2.11.2)\n",
            "Requirement already satisfied: gast<=0.4.0,>=0.2.1 in /usr/local/lib/python3.8/dist-packages (from tensorflow->keras-tcn) (0.4.0)\n",
            "Requirement already satisfied: tensorflow-estimator<2.12,>=2.11.0 in /usr/local/lib/python3.8/dist-packages (from tensorflow->keras-tcn) (2.11.0)\n",
            "Requirement already satisfied: typing-extensions>=3.6.6 in /usr/local/lib/python3.8/dist-packages (from tensorflow->keras-tcn) (4.5.0)\n",
            "Requirement already satisfied: termcolor>=1.1.0 in /usr/local/lib/python3.8/dist-packages (from tensorflow->keras-tcn) (2.2.0)\n",
            "Requirement already satisfied: grpcio<2.0,>=1.24.3 in /usr/local/lib/python3.8/dist-packages (from tensorflow->keras-tcn) (1.51.1)\n",
            "Requirement already satisfied: h5py>=2.9.0 in /usr/local/lib/python3.8/dist-packages (from tensorflow->keras-tcn) (3.1.0)\n",
            "Requirement already satisfied: setuptools in /usr/local/lib/python3.8/dist-packages (from tensorflow->keras-tcn) (57.4.0)\n",
            "Requirement already satisfied: wrapt>=1.11.0 in /usr/local/lib/python3.8/dist-packages (from tensorflow->keras-tcn) (1.14.1)\n",
            "Requirement already satisfied: google-pasta>=0.1.1 in /usr/local/lib/python3.8/dist-packages (from tensorflow->keras-tcn) (0.2.0)\n",
            "Requirement already satisfied: protobuf<3.20,>=3.9.2 in /usr/local/lib/python3.8/dist-packages (from tensorflow->keras-tcn) (3.19.6)\n",
            "Requirement already satisfied: tensorflow-io-gcs-filesystem>=0.23.1 in /usr/local/lib/python3.8/dist-packages (from tensorflow->keras-tcn) (0.30.0)\n",
            "Requirement already satisfied: libclang>=13.0.0 in /usr/local/lib/python3.8/dist-packages (from tensorflow->keras-tcn) (15.0.6.1)\n",
            "Requirement already satisfied: six>=1.12.0 in /usr/local/lib/python3.8/dist-packages (from tensorflow->keras-tcn) (1.15.0)\n",
            "Requirement already satisfied: astunparse>=1.6.0 in /usr/local/lib/python3.8/dist-packages (from tensorflow->keras-tcn) (1.6.3)\n",
            "Requirement already satisfied: absl-py>=1.0.0 in /usr/local/lib/python3.8/dist-packages (from tensorflow->keras-tcn) (1.4.0)\n",
            "Requirement already satisfied: typeguard>=2.7 in /usr/local/lib/python3.8/dist-packages (from tensorflow-addons->keras-tcn) (2.7.1)\n",
            "Requirement already satisfied: wheel<1.0,>=0.23.0 in /usr/local/lib/python3.8/dist-packages (from astunparse>=1.6.0->tensorflow->keras-tcn) (0.38.4)\n",
            "Requirement already satisfied: google-auth<3,>=1.6.3 in /usr/local/lib/python3.8/dist-packages (from tensorboard<2.12,>=2.11->tensorflow->keras-tcn) (2.16.0)\n",
            "Requirement already satisfied: requests<3,>=2.21.0 in /usr/local/lib/python3.8/dist-packages (from tensorboard<2.12,>=2.11->tensorflow->keras-tcn) (2.25.1)\n",
            "Requirement already satisfied: tensorboard-plugin-wit>=1.6.0 in /usr/local/lib/python3.8/dist-packages (from tensorboard<2.12,>=2.11->tensorflow->keras-tcn) (1.8.1)\n",
            "Requirement already satisfied: werkzeug>=1.0.1 in /usr/local/lib/python3.8/dist-packages (from tensorboard<2.12,>=2.11->tensorflow->keras-tcn) (1.0.1)\n",
            "Requirement already satisfied: tensorboard-data-server<0.7.0,>=0.6.0 in /usr/local/lib/python3.8/dist-packages (from tensorboard<2.12,>=2.11->tensorflow->keras-tcn) (0.6.1)\n",
            "Requirement already satisfied: markdown>=2.6.8 in /usr/local/lib/python3.8/dist-packages (from tensorboard<2.12,>=2.11->tensorflow->keras-tcn) (3.4.1)\n",
            "Requirement already satisfied: google-auth-oauthlib<0.5,>=0.4.1 in /usr/local/lib/python3.8/dist-packages (from tensorboard<2.12,>=2.11->tensorflow->keras-tcn) (0.4.6)\n",
            "Requirement already satisfied: pyasn1-modules>=0.2.1 in /usr/local/lib/python3.8/dist-packages (from google-auth<3,>=1.6.3->tensorboard<2.12,>=2.11->tensorflow->keras-tcn) (0.2.8)\n",
            "Requirement already satisfied: cachetools<6.0,>=2.0.0 in /usr/local/lib/python3.8/dist-packages (from google-auth<3,>=1.6.3->tensorboard<2.12,>=2.11->tensorflow->keras-tcn) (5.3.0)\n",
            "Requirement already satisfied: rsa<5,>=3.1.4 in /usr/local/lib/python3.8/dist-packages (from google-auth<3,>=1.6.3->tensorboard<2.12,>=2.11->tensorflow->keras-tcn) (4.9)\n",
            "Requirement already satisfied: requests-oauthlib>=0.7.0 in /usr/local/lib/python3.8/dist-packages (from google-auth-oauthlib<0.5,>=0.4.1->tensorboard<2.12,>=2.11->tensorflow->keras-tcn) (1.3.1)\n",
            "Requirement already satisfied: importlib-metadata>=4.4 in /usr/local/lib/python3.8/dist-packages (from markdown>=2.6.8->tensorboard<2.12,>=2.11->tensorflow->keras-tcn) (6.0.0)\n",
            "Requirement already satisfied: idna<3,>=2.5 in /usr/local/lib/python3.8/dist-packages (from requests<3,>=2.21.0->tensorboard<2.12,>=2.11->tensorflow->keras-tcn) (2.10)\n",
            "Requirement already satisfied: chardet<5,>=3.0.2 in /usr/local/lib/python3.8/dist-packages (from requests<3,>=2.21.0->tensorboard<2.12,>=2.11->tensorflow->keras-tcn) (4.0.0)\n",
            "Requirement already satisfied: urllib3<1.27,>=1.21.1 in /usr/local/lib/python3.8/dist-packages (from requests<3,>=2.21.0->tensorboard<2.12,>=2.11->tensorflow->keras-tcn) (1.24.3)\n",
            "Requirement already satisfied: certifi>=2017.4.17 in /usr/local/lib/python3.8/dist-packages (from requests<3,>=2.21.0->tensorboard<2.12,>=2.11->tensorflow->keras-tcn) (2022.12.7)\n",
            "Requirement already satisfied: zipp>=0.5 in /usr/local/lib/python3.8/dist-packages (from importlib-metadata>=4.4->markdown>=2.6.8->tensorboard<2.12,>=2.11->tensorflow->keras-tcn) (3.13.0)\n",
            "Requirement already satisfied: pyasn1<0.5.0,>=0.4.6 in /usr/local/lib/python3.8/dist-packages (from pyasn1-modules>=0.2.1->google-auth<3,>=1.6.3->tensorboard<2.12,>=2.11->tensorflow->keras-tcn) (0.4.8)\n",
            "Requirement already satisfied: oauthlib>=3.0.0 in /usr/local/lib/python3.8/dist-packages (from requests-oauthlib>=0.7.0->google-auth-oauthlib<0.5,>=0.4.1->tensorboard<2.12,>=2.11->tensorflow->keras-tcn) (3.2.2)\n",
            "Installing collected packages: tensorflow-addons, keras-tcn\n",
            "Successfully installed keras-tcn-3.5.0 tensorflow-addons-0.19.0\n"
          ]
        }
      ],
      "source": [
        "import numpy as np\n",
        "import pandas as pd\n",
        "from glob import glob\n",
        "from keras.models import Sequential\n",
        "from keras.metrics import MeanSquaredError as mae\n",
        "from keras.layers import LSTM,Dense,Dropout\n",
        "import matplotlib.pyplot as plt\n",
        "from sklearn.preprocessing import MinMaxScaler\n",
        "from sklearn.metrics import mean_squared_error as mse\n",
        "from sklearn.metrics import mean_absolute_error as mae\n",
        "from sklearn.metrics import mean_absolute_percentage_error as mape\n",
        "from sklearn.model_selection import train_test_split\n",
        "from math import sqrt\n",
        "#from bokeh.plotting import figure,output_file, show\n",
        "import datetime\n",
        "!pip install keras-tcn\n",
        "from tcn import TCN\n",
        "from tcn import tcn_full_summary\n",
        "#from openpyxl import Workbook,load_workbook"
      ]
    },
    {
      "cell_type": "code",
      "execution_count": null,
      "metadata": {
        "colab": {
          "base_uri": "https://localhost:8080/"
        },
        "id": "XKTCxqVcGhTF",
        "outputId": "a37c0a70-6f79-4fb8-f001-3de68b3e3f79"
      },
      "outputs": [
        {
          "output_type": "stream",
          "name": "stdout",
          "text": [
            "Mounted at /content/drive\n"
          ]
        }
      ],
      "source": [
        "from google.colab import drive\n",
        "drive.mount('/content/drive')\n"
      ]
    },
    {
      "cell_type": "code",
      "execution_count": null,
      "metadata": {
        "id": "GsdJvpg2GheU",
        "colab": {
          "base_uri": "https://localhost:8080/"
        },
        "outputId": "f4417b0c-552d-4b9f-9003-f570efcc56a8"
      },
      "outputs": [
        {
          "output_type": "stream",
          "name": "stdout",
          "text": [
            "Archive:  DATA.zip\n",
            "   creating: DATA/\n",
            "   creating: DATA/402214/\n",
            "  inflating: DATA/402214/8.csv       \n",
            "  inflating: DATA/402214/9.csv       \n",
            "  inflating: DATA/402214/1.csv       \n",
            "  inflating: DATA/402214/2.csv       \n",
            "  inflating: DATA/402214/5.csv       \n",
            "  inflating: DATA/402214/4.csv       \n",
            "  inflating: DATA/402214/11.csv      \n",
            "  inflating: DATA/402214/3.csv       \n",
            "  inflating: DATA/402214/10.csv      \n",
            "  inflating: DATA/402214/12.csv      \n",
            "  inflating: DATA/402214/13.csv      \n",
            "  inflating: DATA/402214/7.csv       \n",
            "  inflating: DATA/402214/6.csv       \n",
            "   creating: DATA/402510/\n",
            "  inflating: DATA/402510/3.csv       \n",
            "  inflating: DATA/402510/12.csv      \n",
            "  inflating: DATA/402510/13.csv      \n",
            "  inflating: DATA/402510/10.csv      \n",
            "  inflating: DATA/402510/8.csv       \n",
            "  inflating: DATA/402510/4.csv       \n",
            "  inflating: DATA/402510/11.csv      \n",
            "  inflating: DATA/402510/7.csv       \n",
            "  inflating: DATA/402510/6.csv       \n",
            "  inflating: DATA/402510/9.csv       \n",
            "  inflating: DATA/402510/5.csv       \n",
            "  inflating: DATA/402510/1.csv       \n",
            "  inflating: DATA/402510/2.csv       \n",
            "   creating: DATA/402835/\n",
            "  inflating: DATA/402835/10.csv      \n",
            "  inflating: DATA/402835/1.csv       \n",
            "  inflating: DATA/402835/7.csv       \n",
            "  inflating: DATA/402835/12.csv      \n",
            "  inflating: DATA/402835/13.csv      \n",
            "  inflating: DATA/402835/11.csv      \n",
            "  inflating: DATA/402835/2.csv       \n",
            "  inflating: DATA/402835/9.csv       \n",
            "  inflating: DATA/402835/4.csv       \n",
            "  inflating: DATA/402835/6.csv       \n",
            "  inflating: DATA/402835/5.csv       \n",
            "  inflating: DATA/402835/8.csv       \n",
            "  inflating: DATA/402835/3.csv       \n",
            "   creating: DATA/414025/\n",
            "  inflating: DATA/414025/10.csv      \n",
            "  inflating: DATA/414025/8.csv       \n",
            "  inflating: DATA/414025/12.csv      \n",
            "  inflating: DATA/414025/7.csv       \n",
            "  inflating: DATA/414025/3.csv       \n",
            "  inflating: DATA/414025/5.csv       \n",
            "  inflating: DATA/414025/13.csv      \n",
            "  inflating: DATA/414025/11.csv      \n",
            "  inflating: DATA/414025/2.csv       \n",
            "  inflating: DATA/414025/4.csv       \n",
            "  inflating: DATA/414025/6.csv       \n",
            "  inflating: DATA/414025/1.csv       \n",
            "  inflating: DATA/414025/9.csv       \n",
            "  inflating: DATA/pems_output4.csv   \n",
            "  inflating: DATA/pems_output5.csv   \n",
            "  inflating: DATA/pems_output6.csv   \n",
            "  inflating: DATA/pems_output7.csv   \n",
            "   creating: DATA/402212/\n",
            "  inflating: DATA/402212/10.csv      \n",
            "  inflating: DATA/402212/1.csv       \n",
            "  inflating: DATA/402212/6.csv       \n",
            "  inflating: DATA/402212/12.csv      \n",
            "  inflating: DATA/402212/2.csv       \n",
            "  inflating: DATA/402212/9.csv       \n",
            "  inflating: DATA/402212/3.csv       \n",
            "  inflating: DATA/402212/8.csv       \n",
            "  inflating: DATA/402212/11.csv      \n",
            "  inflating: DATA/402212/4.csv       \n",
            "  inflating: DATA/402212/13.csv      \n",
            "  inflating: DATA/402212/7.csv       \n",
            "  inflating: DATA/402212/5.csv       \n"
          ]
        }
      ],
      "source": [
        "!cp  /content/drive/My\\ Drive/DATA.zip /content/\n",
        "!unzip DATA.zip"
      ]
    },
    {
      "cell_type": "code",
      "execution_count": null,
      "metadata": {
        "colab": {
          "base_uri": "https://localhost:8080/"
        },
        "id": "BH7WWnZKEXnF",
        "outputId": "a18cf1d0-1a2e-4316-d81f-e261e052756f"
      },
      "outputs": [
        {
          "output_type": "stream",
          "name": "stdout",
          "text": [
            "['/content/DATA/402214/2.csv', '/content/DATA/402214/1.csv', '/content/DATA/402214/5.csv', '/content/DATA/402214/8.csv', '/content/DATA/402214/7.csv', '/content/DATA/402214/9.csv', '/content/DATA/402214/12.csv', '/content/DATA/402214/13.csv', '/content/DATA/402214/11.csv', '/content/DATA/402214/4.csv', '/content/DATA/402214/6.csv', '/content/DATA/402214/3.csv', '/content/DATA/402214/10.csv']\n"
          ]
        }
      ],
      "source": [
        "filenames = glob('/content/DATA/402214'+'/*.csv')\n",
        "print(filenames)"
      ]
    },
    {
      "cell_type": "code",
      "execution_count": null,
      "metadata": {
        "id": "nXzKD_q0EXnI"
      },
      "outputs": [],
      "source": [
        "data = []\n",
        "for filename in filenames:\n",
        "    data.append(pd.read_csv(filename))\n",
        "full_data =pd.concat(data,ignore_index=True)"
      ]
    },
    {
      "cell_type": "code",
      "execution_count": null,
      "metadata": {
        "id": "FklfPzOVEXnJ"
      },
      "outputs": [],
      "source": [
        "cols = list(full_data)[2]"
      ]
    },
    {
      "cell_type": "code",
      "execution_count": null,
      "metadata": {
        "id": "3J7jopIdEXnL"
      },
      "outputs": [],
      "source": [
        "training_data=full_data[cols].astype(str)\n"
      ]
    },
    {
      "cell_type": "code",
      "execution_count": null,
      "metadata": {
        "id": "fvD5F9GlEXnM"
      },
      "outputs": [],
      "source": [
        "training_data = np.array(training_data).reshape(len(training_data),1)"
      ]
    },
    {
      "cell_type": "code",
      "execution_count": null,
      "metadata": {
        "id": "xnWWgAHNEXnO"
      },
      "outputs": [],
      "source": [
        "scaler =MinMaxScaler(feature_range=(0,1))\n",
        "training_scaled = scaler.fit_transform(training_data)"
      ]
    },
    {
      "cell_type": "code",
      "execution_count": null,
      "metadata": {
        "colab": {
          "base_uri": "https://localhost:8080/"
        },
        "id": "EPG5vFY0EXnP",
        "outputId": "69781bbc-dada-41c8-8c8e-c86160530ae0"
      },
      "outputs": [
        {
          "output_type": "execute_result",
          "data": {
            "text/plain": [
              "(array([[0.17647059],\n",
              "        [0.17647059],\n",
              "        [0.16993464],\n",
              "        [0.16339869],\n",
              "        [0.15686275],\n",
              "        [0.14379085],\n",
              "        [0.1372549 ],\n",
              "        [0.12418301],\n",
              "        [0.11764706],\n",
              "        [0.11111111],\n",
              "        [0.10457516],\n",
              "        [0.10457516],\n",
              "        [0.09803922],\n",
              "        [0.09150327],\n",
              "        [0.09150327]]), 0.08496732026143791)"
            ]
          },
          "metadata": {},
          "execution_count": 10
        }
      ],
      "source": [
        "training_scaled[:15],training_scaled[15,-1]"
      ]
    },
    {
      "cell_type": "code",
      "execution_count": null,
      "metadata": {
        "id": "AEaJN1m_EXnR"
      },
      "outputs": [],
      "source": [
        "n_steps = 30"
      ]
    },
    {
      "cell_type": "code",
      "execution_count": null,
      "metadata": {
        "id": "wLWUSu5PEXnU"
      },
      "outputs": [],
      "source": [
        "def split_set1(X):\n",
        "    S = []\n",
        "    HS= []\n",
        "    i=0\n",
        "    while i < len(X)-n_steps:\n",
        "        l=[]\n",
        "        l.append(X[i:n_steps+i])\n",
        "        S.append(l)\n",
        "        l=[]\n",
        "        l.append(X[n_steps+i])\n",
        "        HS.append(l)\n",
        "        i+=1\n",
        "    S=np.array(S)\n",
        "    HS=np.array(HS)\n",
        "    S=S.reshape(S.shape[0],S.shape[2],S.shape[3])\n",
        "    HS=HS.reshape(HS.shape[0],HS.shape[1])\n",
        "    return S,HS\n"
      ]
    },
    {
      "cell_type": "code",
      "execution_count": null,
      "metadata": {
        "id": "38CXq0z0EXnW"
      },
      "outputs": [],
      "source": [
        "X,Y = split_set1(training_scaled)"
      ]
    },
    {
      "cell_type": "code",
      "execution_count": null,
      "metadata": {
        "id": "FRXfE078EXnX"
      },
      "outputs": [],
      "source": [
        "t_d=len(training_scaled)//5"
      ]
    },
    {
      "cell_type": "code",
      "execution_count": null,
      "metadata": {
        "colab": {
          "base_uri": "https://localhost:8080/"
        },
        "id": "XUMkweO2EXnZ",
        "outputId": "5ff7f824-2ff2-4314-f347-24e3ce14de0c"
      },
      "outputs": [
        {
          "output_type": "execute_result",
          "data": {
            "text/plain": [
              "5238"
            ]
          },
          "metadata": {},
          "execution_count": 15
        }
      ],
      "source": [
        "t_d"
      ]
    },
    {
      "cell_type": "code",
      "execution_count": null,
      "metadata": {
        "id": "0EEB6BUhEXna"
      },
      "outputs": [],
      "source": [
        "train_X,test_X,train_Y,test_Y = X[:-t_d],X[-t_d:-1],Y[:-t_d],Y[-t_d:-1]"
      ]
    },
    {
      "cell_type": "code",
      "execution_count": null,
      "metadata": {
        "colab": {
          "base_uri": "https://localhost:8080/"
        },
        "id": "G2kVIoP4EXnb",
        "outputId": "4bc89c0a-d242-4600-cb4f-bea62f1d4e2d"
      },
      "outputs": [
        {
          "output_type": "execute_result",
          "data": {
            "text/plain": [
              "5237"
            ]
          },
          "metadata": {},
          "execution_count": 17
        }
      ],
      "source": [
        "len(test_X)"
      ]
    },
    {
      "cell_type": "code",
      "execution_count": null,
      "metadata": {
        "id": "6t1E7NnPEXnc"
      },
      "outputs": [],
      "source": [
        "test_Y=test_Y.reshape(test_Y.shape[0],1)"
      ]
    },
    {
      "cell_type": "code",
      "execution_count": null,
      "metadata": {
        "colab": {
          "base_uri": "https://localhost:8080/"
        },
        "id": "pKJwqI2REXnd",
        "outputId": "4b0e84d9-8b02-4da2-d6ad-5b799db960cc"
      },
      "outputs": [
        {
          "output_type": "execute_result",
          "data": {
            "text/plain": [
              "(20925, 1)"
            ]
          },
          "metadata": {},
          "execution_count": 19
        }
      ],
      "source": [
        "train_Y.shape"
      ]
    },
    {
      "cell_type": "code",
      "execution_count": null,
      "metadata": {
        "id": "4bwkuVuGEXne"
      },
      "outputs": [],
      "source": [
        "def Create_Model():\n",
        "    Model=Sequential()\n",
        "    Model.add(TCN(24,15,2,dilations=(1,2,4,8,16),padding = 'causal',use_skip_connections= True,activation ='relu',dropout_rate=.1,input_shape = (n_steps,1)))\n",
        "    Model.add(Dense(10,activation='relu'))\n",
        "    Model.add(Dense(1))\n",
        "    Model.compile(optimizer=\"adam\", loss = \"mse\")\n",
        "    return Model\n"
      ]
    },
    {
      "cell_type": "code",
      "execution_count": null,
      "metadata": {
        "id": "tGjY79pUEXnf"
      },
      "outputs": [],
      "source": [
        "model = Create_Model()"
      ]
    },
    {
      "cell_type": "code",
      "execution_count": null,
      "metadata": {
        "colab": {
          "base_uri": "https://localhost:8080/"
        },
        "id": "aNbKtpfHEXnj",
        "outputId": "c939eb33-f604-4092-99ae-30e9868da76a"
      },
      "outputs": [
        {
          "output_type": "stream",
          "name": "stdout",
          "text": [
            "Epoch 1/100\n",
            "556/556 [==============================] - 74s 111ms/step - loss: 0.0156 - val_loss: 2.5119e-04\n",
            "Epoch 2/100\n",
            "556/556 [==============================] - 58s 105ms/step - loss: 0.0012 - val_loss: 4.8670e-04\n",
            "Epoch 3/100\n",
            "556/556 [==============================] - 59s 106ms/step - loss: 6.9473e-04 - val_loss: 2.0382e-04\n",
            "Epoch 4/100\n",
            "556/556 [==============================] - 60s 108ms/step - loss: 4.7762e-04 - val_loss: 8.8233e-05\n",
            "Epoch 5/100\n",
            "556/556 [==============================] - 57s 103ms/step - loss: 3.7488e-04 - val_loss: 9.6586e-05\n",
            "Epoch 6/100\n",
            "556/556 [==============================] - 57s 103ms/step - loss: 2.9490e-04 - val_loss: 9.1660e-05\n",
            "Epoch 7/100\n",
            "556/556 [==============================] - 57s 102ms/step - loss: 2.6902e-04 - val_loss: 1.0760e-04\n",
            "Epoch 8/100\n",
            "556/556 [==============================] - 62s 112ms/step - loss: 2.4864e-04 - val_loss: 1.7081e-04\n",
            "Epoch 9/100\n",
            "556/556 [==============================] - 56s 101ms/step - loss: 2.4080e-04 - val_loss: 6.5235e-05\n",
            "Epoch 10/100\n",
            "556/556 [==============================] - 58s 105ms/step - loss: 2.3748e-04 - val_loss: 7.1386e-05\n",
            "Epoch 11/100\n",
            "556/556 [==============================] - 58s 105ms/step - loss: 1.9038e-04 - val_loss: 9.0174e-05\n",
            "Epoch 12/100\n",
            "556/556 [==============================] - 57s 102ms/step - loss: 1.8673e-04 - val_loss: 1.5390e-04\n",
            "Epoch 13/100\n",
            "556/556 [==============================] - 56s 101ms/step - loss: 1.9943e-04 - val_loss: 1.8254e-04\n",
            "Epoch 14/100\n",
            "556/556 [==============================] - 57s 102ms/step - loss: 1.9630e-04 - val_loss: 4.7440e-05\n",
            "Epoch 15/100\n",
            "556/556 [==============================] - 56s 101ms/step - loss: 1.5760e-04 - val_loss: 1.4490e-04\n",
            "Epoch 16/100\n",
            "556/556 [==============================] - 56s 101ms/step - loss: 1.6678e-04 - val_loss: 5.1631e-05\n",
            "Epoch 17/100\n",
            "556/556 [==============================] - 56s 101ms/step - loss: 1.4399e-04 - val_loss: 4.4478e-05\n",
            "Epoch 18/100\n",
            "556/556 [==============================] - 58s 105ms/step - loss: 1.6643e-04 - val_loss: 4.6740e-05\n",
            "Epoch 19/100\n",
            "556/556 [==============================] - 57s 103ms/step - loss: 1.5056e-04 - val_loss: 4.7298e-05\n",
            "Epoch 20/100\n",
            "556/556 [==============================] - 56s 101ms/step - loss: 1.2860e-04 - val_loss: 9.0060e-05\n",
            "Epoch 21/100\n",
            "556/556 [==============================] - 56s 101ms/step - loss: 1.2575e-04 - val_loss: 5.6034e-05\n",
            "Epoch 22/100\n",
            "556/556 [==============================] - 57s 103ms/step - loss: 1.2660e-04 - val_loss: 8.1256e-05\n",
            "Epoch 23/100\n",
            "556/556 [==============================] - 57s 103ms/step - loss: 1.1921e-04 - val_loss: 5.8070e-05\n",
            "Epoch 24/100\n",
            "556/556 [==============================] - 57s 102ms/step - loss: 1.4462e-04 - val_loss: 5.4458e-05\n",
            "Epoch 25/100\n",
            "556/556 [==============================] - 58s 105ms/step - loss: 1.2442e-04 - val_loss: 8.3826e-05\n",
            "Epoch 26/100\n",
            "556/556 [==============================] - 57s 103ms/step - loss: 1.2163e-04 - val_loss: 4.3747e-05\n",
            "Epoch 27/100\n",
            "556/556 [==============================] - 64s 115ms/step - loss: 1.1478e-04 - val_loss: 8.2004e-05\n",
            "Epoch 28/100\n",
            "556/556 [==============================] - 56s 101ms/step - loss: 1.0980e-04 - val_loss: 3.7769e-05\n",
            "Epoch 29/100\n",
            "556/556 [==============================] - 57s 102ms/step - loss: 1.0779e-04 - val_loss: 5.9432e-05\n",
            "Epoch 30/100\n",
            "556/556 [==============================] - 57s 103ms/step - loss: 1.0593e-04 - val_loss: 4.5698e-05\n",
            "Epoch 31/100\n",
            "556/556 [==============================] - 58s 105ms/step - loss: 1.0806e-04 - val_loss: 4.7077e-05\n",
            "Epoch 32/100\n",
            "556/556 [==============================] - 57s 103ms/step - loss: 1.0146e-04 - val_loss: 6.1147e-05\n",
            "Epoch 33/100\n",
            "556/556 [==============================] - 56s 101ms/step - loss: 1.1628e-04 - val_loss: 3.8358e-05\n",
            "Epoch 34/100\n",
            "556/556 [==============================] - 57s 103ms/step - loss: 1.0539e-04 - val_loss: 5.8059e-05\n",
            "Epoch 35/100\n",
            "556/556 [==============================] - 57s 103ms/step - loss: 1.1689e-04 - val_loss: 2.7495e-04\n",
            "Epoch 36/100\n",
            "556/556 [==============================] - 57s 102ms/step - loss: 9.8536e-05 - val_loss: 5.4221e-05\n",
            "Epoch 37/100\n",
            "556/556 [==============================] - 56s 101ms/step - loss: 1.0240e-04 - val_loss: 4.4137e-05\n",
            "Epoch 38/100\n",
            "556/556 [==============================] - 58s 104ms/step - loss: 9.5438e-05 - val_loss: 4.0670e-05\n",
            "Epoch 39/100\n",
            "556/556 [==============================] - 57s 103ms/step - loss: 9.2905e-05 - val_loss: 4.0776e-05\n",
            "Epoch 40/100\n",
            "556/556 [==============================] - 57s 103ms/step - loss: 9.6407e-05 - val_loss: 3.5309e-05\n",
            "Epoch 41/100\n",
            "556/556 [==============================] - 57s 102ms/step - loss: 1.0150e-04 - val_loss: 4.6035e-05\n",
            "Epoch 42/100\n",
            "556/556 [==============================] - 56s 101ms/step - loss: 9.7786e-05 - val_loss: 4.1793e-05\n",
            "Epoch 43/100\n",
            "556/556 [==============================] - 58s 104ms/step - loss: 1.0836e-04 - val_loss: 5.6194e-05\n",
            "Epoch 44/100\n",
            "556/556 [==============================] - 59s 106ms/step - loss: 1.0298e-04 - val_loss: 3.8788e-05\n",
            "Epoch 45/100\n",
            "556/556 [==============================] - 59s 106ms/step - loss: 9.5710e-05 - val_loss: 4.2429e-05\n",
            "Epoch 46/100\n",
            "556/556 [==============================] - 57s 102ms/step - loss: 9.4826e-05 - val_loss: 3.9266e-05\n",
            "Epoch 47/100\n",
            "556/556 [==============================] - 57s 103ms/step - loss: 1.0329e-04 - val_loss: 6.8873e-05\n",
            "Epoch 48/100\n",
            "556/556 [==============================] - 57s 103ms/step - loss: 9.3765e-05 - val_loss: 4.3248e-05\n",
            "Epoch 49/100\n",
            "556/556 [==============================] - 57s 102ms/step - loss: 9.6764e-05 - val_loss: 4.2771e-05\n",
            "Epoch 50/100\n",
            "556/556 [==============================] - 59s 106ms/step - loss: 8.8218e-05 - val_loss: 3.9727e-05\n",
            "Epoch 51/100\n",
            "556/556 [==============================] - 57s 103ms/step - loss: 8.9328e-05 - val_loss: 5.2237e-05\n",
            "Epoch 52/100\n",
            "556/556 [==============================] - 57s 102ms/step - loss: 9.0866e-05 - val_loss: 9.9625e-05\n",
            "Epoch 53/100\n",
            "556/556 [==============================] - 56s 102ms/step - loss: 9.2349e-05 - val_loss: 3.6076e-05\n",
            "Epoch 54/100\n",
            "556/556 [==============================] - 57s 102ms/step - loss: 9.4898e-05 - val_loss: 4.2375e-05\n",
            "Epoch 55/100\n",
            "556/556 [==============================] - 56s 101ms/step - loss: 9.1128e-05 - val_loss: 6.1332e-05\n",
            "Epoch 56/100\n",
            "556/556 [==============================] - 58s 105ms/step - loss: 8.7033e-05 - val_loss: 5.6532e-05\n",
            "Epoch 57/100\n",
            "556/556 [==============================] - 57s 102ms/step - loss: 8.5951e-05 - val_loss: 7.7344e-05\n",
            "Epoch 58/100\n",
            "556/556 [==============================] - 57s 103ms/step - loss: 9.3857e-05 - val_loss: 3.5166e-05\n",
            "Epoch 59/100\n",
            "556/556 [==============================] - 57s 103ms/step - loss: 1.0895e-04 - val_loss: 7.5569e-05\n",
            "Epoch 60/100\n",
            "556/556 [==============================] - 57s 102ms/step - loss: 9.1954e-05 - val_loss: 4.6040e-05\n",
            "Epoch 61/100\n",
            "556/556 [==============================] - 59s 106ms/step - loss: 8.5902e-05 - val_loss: 4.3819e-05\n",
            "Epoch 62/100\n",
            "556/556 [==============================] - 59s 106ms/step - loss: 8.7928e-05 - val_loss: 3.3528e-05\n",
            "Epoch 63/100\n",
            "556/556 [==============================] - 57s 103ms/step - loss: 8.6712e-05 - val_loss: 3.4611e-05\n",
            "Epoch 64/100\n",
            "556/556 [==============================] - 57s 102ms/step - loss: 8.5075e-05 - val_loss: 4.9739e-05\n",
            "Epoch 65/100\n",
            "556/556 [==============================] - 57s 103ms/step - loss: 9.4121e-05 - val_loss: 3.6679e-05\n",
            "Epoch 66/100\n",
            "556/556 [==============================] - 57s 103ms/step - loss: 8.6366e-05 - val_loss: 3.8829e-05\n",
            "Epoch 67/100\n",
            "556/556 [==============================] - 57s 103ms/step - loss: 9.1554e-05 - val_loss: 4.3088e-05\n",
            "Epoch 68/100\n",
            "556/556 [==============================] - 58s 105ms/step - loss: 8.7231e-05 - val_loss: 3.4658e-05\n",
            "Epoch 69/100\n",
            "556/556 [==============================] - 57s 103ms/step - loss: 9.4440e-05 - val_loss: 4.0853e-05\n",
            "Epoch 70/100\n",
            "556/556 [==============================] - 57s 102ms/step - loss: 8.9126e-05 - val_loss: 3.5015e-05\n",
            "Epoch 71/100\n",
            "556/556 [==============================] - 57s 102ms/step - loss: 8.4667e-05 - val_loss: 4.7135e-05\n",
            "Epoch 72/100\n",
            "556/556 [==============================] - 57s 103ms/step - loss: 8.9762e-05 - val_loss: 4.0356e-05\n",
            "Epoch 73/100\n",
            "556/556 [==============================] - 57s 102ms/step - loss: 9.9544e-05 - val_loss: 5.1659e-05\n",
            "Epoch 74/100\n",
            "556/556 [==============================] - 59s 107ms/step - loss: 8.0498e-05 - val_loss: 4.8586e-05\n",
            "Epoch 75/100\n",
            "556/556 [==============================] - 58s 104ms/step - loss: 7.9961e-05 - val_loss: 3.5485e-05\n",
            "Epoch 76/100\n",
            "556/556 [==============================] - 57s 103ms/step - loss: 7.7392e-05 - val_loss: 3.7643e-05\n",
            "Epoch 77/100\n",
            "556/556 [==============================] - 57s 103ms/step - loss: 8.1901e-05 - val_loss: 4.6978e-05\n",
            "Epoch 78/100\n",
            "556/556 [==============================] - 56s 101ms/step - loss: 8.3019e-05 - val_loss: 3.7604e-05\n",
            "Epoch 79/100\n",
            "556/556 [==============================] - 57s 103ms/step - loss: 8.2912e-05 - val_loss: 3.6004e-05\n",
            "Epoch 80/100\n",
            "556/556 [==============================] - 59s 106ms/step - loss: 8.1445e-05 - val_loss: 3.4594e-05\n",
            "Epoch 81/100\n",
            "556/556 [==============================] - 57s 103ms/step - loss: 8.0292e-05 - val_loss: 3.7050e-05\n",
            "Epoch 82/100\n",
            "556/556 [==============================] - 59s 106ms/step - loss: 8.2195e-05 - val_loss: 7.0571e-05\n",
            "Epoch 83/100\n",
            "556/556 [==============================] - 57s 103ms/step - loss: 8.7470e-05 - val_loss: 4.1247e-05\n",
            "Epoch 84/100\n",
            "556/556 [==============================] - 57s 102ms/step - loss: 7.8562e-05 - val_loss: 3.4153e-05\n",
            "Epoch 85/100\n",
            "556/556 [==============================] - 58s 104ms/step - loss: 7.9901e-05 - val_loss: 4.0224e-05\n",
            "Epoch 86/100\n",
            "556/556 [==============================] - 59s 106ms/step - loss: 7.9775e-05 - val_loss: 4.8700e-05\n",
            "Epoch 87/100\n",
            "556/556 [==============================] - 57s 103ms/step - loss: 8.4393e-05 - val_loss: 3.8062e-05\n",
            "Epoch 88/100\n",
            "556/556 [==============================] - 57s 102ms/step - loss: 8.0658e-05 - val_loss: 3.9018e-05\n",
            "Epoch 89/100\n",
            "556/556 [==============================] - 57s 102ms/step - loss: 8.0933e-05 - val_loss: 3.4856e-05\n",
            "Epoch 90/100\n",
            "556/556 [==============================] - 58s 104ms/step - loss: 7.9797e-05 - val_loss: 4.5291e-05\n",
            "Epoch 91/100\n",
            "556/556 [==============================] - 61s 109ms/step - loss: 7.6049e-05 - val_loss: 1.0533e-04\n",
            "Epoch 92/100\n",
            "556/556 [==============================] - 57s 103ms/step - loss: 7.9795e-05 - val_loss: 3.3032e-05\n",
            "Epoch 93/100\n",
            "556/556 [==============================] - 58s 104ms/step - loss: 7.6225e-05 - val_loss: 3.6603e-05\n",
            "Epoch 94/100\n",
            "556/556 [==============================] - 57s 103ms/step - loss: 8.5704e-05 - val_loss: 3.4384e-05\n",
            "Epoch 95/100\n",
            "556/556 [==============================] - 58s 104ms/step - loss: 8.0194e-05 - val_loss: 3.7310e-04\n",
            "Epoch 96/100\n",
            "556/556 [==============================] - 58s 104ms/step - loss: 8.7646e-05 - val_loss: 4.2778e-05\n",
            "Epoch 97/100\n",
            "556/556 [==============================] - 59s 106ms/step - loss: 7.5713e-05 - val_loss: 4.0078e-05\n",
            "Epoch 98/100\n",
            "556/556 [==============================] - 58s 104ms/step - loss: 9.3294e-05 - val_loss: 3.3571e-05\n",
            "Epoch 99/100\n",
            "556/556 [==============================] - 58s 104ms/step - loss: 8.4130e-05 - val_loss: 4.5382e-05\n",
            "Epoch 100/100\n",
            "556/556 [==============================] - 57s 103ms/step - loss: 8.3985e-05 - val_loss: 3.5741e-05\n"
          ]
        }
      ],
      "source": [
        "history=model.fit(train_X,train_Y,epochs=100,validation_split=.15, verbose=1)"
      ]
    },
    {
      "cell_type": "code",
      "execution_count": null,
      "metadata": {
        "id": "JcZ9D6GiEXnm",
        "outputId": "c8662bcc-4c35-4988-c33e-1f290a77216e",
        "colab": {
          "base_uri": "https://localhost:8080/"
        }
      },
      "outputs": [
        {
          "output_type": "stream",
          "name": "stdout",
          "text": [
            "Model: \"sequential\"\n",
            "_________________________________________________________________\n",
            " Layer (type)                Output Shape              Param #   \n",
            "=================================================================\n",
            " tcn (TCN)                   (None, 24)                165048    \n",
            "                                                                 \n",
            " dense (Dense)               (None, 10)                250       \n",
            "                                                                 \n",
            " dense_1 (Dense)             (None, 1)                 11        \n",
            "                                                                 \n",
            "=================================================================\n",
            "Total params: 165,309\n",
            "Trainable params: 165,309\n",
            "Non-trainable params: 0\n",
            "_________________________________________________________________\n"
          ]
        }
      ],
      "source": [
        "model.summary()"
      ]
    },
    {
      "cell_type": "code",
      "execution_count": null,
      "metadata": {
        "id": "QjEsJa-2EXnn",
        "outputId": "66aaef8e-3976-43fd-ff25-563d0530510c",
        "colab": {
          "base_uri": "https://localhost:8080/",
          "height": 295
        }
      },
      "outputs": [
        {
          "output_type": "display_data",
          "data": {
            "text/plain": [
              "<Figure size 432x288 with 1 Axes>"
            ],
            "image/png": "[encoded data removed]"
          },
          "metadata": {
            "needs_background": "light"
          }
        }
      ],
      "source": [
        "plt.plot(history.history[\"loss\"],color='green')\n",
        "plt.plot(history.history[\"val_loss\"],color='blue')\n",
        "plt.title('model loss')\n",
        "plt.ylabel('loss')\n",
        "plt.xlabel('epoch')\n",
        "plt.show()"
      ]
    },
    {
      "cell_type": "code",
      "execution_count": null,
      "metadata": {
        "id": "CmJ7obZdEXno",
        "colab": {
          "base_uri": "https://localhost:8080/"
        },
        "outputId": "0f4c308f-b2bf-4595-cb17-dad537ecdaaf"
      },
      "outputs": [
        {
          "output_type": "stream",
          "name": "stdout",
          "text": [
            "164/164 [==============================] - 5s 23ms/step\n"
          ]
        }
      ],
      "source": [
        "y_predict_scaled =model.predict(test_X)"
      ]
    },
    {
      "cell_type": "code",
      "execution_count": null,
      "metadata": {
        "id": "UGG1kaSyEXnp",
        "outputId": "c1683f55-5ad2-4782-ae21-9d29f921413c",
        "colab": {
          "base_uri": "https://localhost:8080/"
        }
      },
      "outputs": [
        {
          "output_type": "execute_result",
          "data": {
            "text/plain": [
              "(5237, 1)"
            ]
          },
          "metadata": {},
          "execution_count": 26
        }
      ],
      "source": [
        "y_predict_scaled.shape"
      ]
    },
    {
      "cell_type": "code",
      "execution_count": null,
      "metadata": {
        "id": "FtIamvPpEXnq"
      },
      "outputs": [],
      "source": [
        "y_predict = scaler.inverse_transform(y_predict_scaled)"
      ]
    },
    {
      "cell_type": "code",
      "execution_count": null,
      "metadata": {
        "id": "zS9wGzLVEXnr"
      },
      "outputs": [],
      "source": [
        "test_Y = scaler.inverse_transform(test_Y)"
      ]
    },
    {
      "cell_type": "code",
      "execution_count": null,
      "metadata": {
        "id": "Xs41XamjEXnr",
        "outputId": "ba57657c-cb72-461d-ca3d-e356f13b2cb8",
        "colab": {
          "base_uri": "https://localhost:8080/"
        }
      },
      "outputs": [
        {
          "output_type": "stream",
          "name": "stdout",
          "text": [
            "1.9634664931414758\n"
          ]
        }
      ],
      "source": [
        "print(mae(y_predict,test_Y))\n"
      ]
    },
    {
      "cell_type": "code",
      "execution_count": null,
      "metadata": {
        "id": "hg1fbQkrEXns",
        "outputId": "ea42478c-9c32-4589-d3b3-fecba881f128",
        "colab": {
          "base_uri": "https://localhost:8080/"
        }
      },
      "outputs": [
        {
          "metadata": {
            "tags": null
          },
          "name": "stdout",
          "output_type": "stream",
          "text": [
            "3.589232147112034\n"
          ]
        }
      ],
      "source": [
        "print(sqrt(mse(y_predict,test_Y)))"
      ]
    },
    {
      "cell_type": "code",
      "execution_count": null,
      "metadata": {
        "id": "uACqflb4EXnt",
        "outputId": "3f170922-4939-4154-cec1-8e1355276cea",
        "colab": {
          "base_uri": "https://localhost:8080/"
        }
      },
      "outputs": [
        {
          "output_type": "stream",
          "name": "stdout",
          "text": [
            "0.056638341284936375\n"
          ]
        }
      ],
      "source": [
        "print(mape(y_predict,test_Y))"
      ]
    },
    {
      "cell_type": "code",
      "execution_count": null,
      "metadata": {
        "id": "d4iIBNvHEXnt",
        "outputId": "511fed35-8dee-4810-acc4-24a861d7ddf5",
        "colab": {
          "base_uri": "https://localhost:8080/"
        }
      },
      "outputs": [
        {
          "output_type": "stream",
          "name": "stdout",
          "text": [
            "[103.627884]\n"
          ]
        }
      ],
      "source": [
        "print(y_predict[0])"
      ]
    },
    {
      "cell_type": "code",
      "execution_count": null,
      "metadata": {
        "id": "siaD7IXsEXnu",
        "outputId": "c007285c-9cf3-4c06-f56f-97e222c0bb74",
        "scrolled": true,
        "colab": {
          "base_uri": "https://localhost:8080/"
        }
      },
      "outputs": [
        {
          "output_type": "execute_result",
          "data": {
            "text/plain": [
              "5237"
            ]
          },
          "metadata": {},
          "execution_count": 33
        }
      ],
      "source": [
        "len(test_X)"
      ]
    },
    {
      "cell_type": "code",
      "execution_count": null,
      "metadata": {
        "id": "8SlzGagpEXnw"
      },
      "outputs": [],
      "source": [
        "Error=[]\n",
        "for i in range(len(test_Y)):\n",
        "    Error.append(abs(y_predict[i]-test_Y[i]))"
      ]
    },
    {
      "cell_type": "code",
      "execution_count": null,
      "metadata": {
        "id": "uZd_8A-HEXnx"
      },
      "outputs": [],
      "source": [
        "# wb = load_workbook('Test.xlsx')\n",
        "# ws = wb['TCN1']\n",
        "# ws = wb.active\n",
        "# for i in range(len(test_Y)):\n",
        "#     k=i+2\n",
        "#     ws['A'+str(k)]=test_Y[i][0]\n",
        "#     ws['B'+str(k)]=y_predict[i][0]\n",
        "#     ws['C'+str(k)]=Error[i][0]\n",
        "# wb.save('Test.xlsx')"
      ]
    },
    {
      "cell_type": "markdown",
      "source": [
        "NAS implementation"
      ],
      "metadata": {
        "id": "w8FQyWfd_gUr"
      }
    },
    {
      "cell_type": "code",
      "execution_count": null,
      "metadata": {
        "id": "J0x3Xu4zEXnx"
      },
      "outputs": [],
      "source": [
        "# Define the search space\n",
        "num_layers_choices = [2, 3, 4, 5]\n",
        "filters_choices = [16, 32, 64, 128]\n",
        "kernel_size_choices = [3, 5, 7, 9]\n",
        "dropout_rate_choices = [0.1, 0.2, 0.3, 0.4]"
      ]
    },
    {
      "cell_type": "code",
      "source": [
        "# Perform the neural architecture search\n",
        "import random\n",
        "for i in range(10):\n",
        "    # Generate random hyperparameters\n",
        "    num_layers = random.choice(num_layers_choices)\n",
        "    filters = random.choice(filters_choices)\n",
        "    kernel_size = random.choice(kernel_size_choices)\n",
        "    dropout_rate = random.choice(dropout_rate_choices)\n",
        "    # Build the TCN model with the random hyperparameters\n",
        "    model = Create_Model()\n",
        "    # Train the model\n",
        "    history=model.fit(train_X,train_Y,epochs=30,validation_split=.15, verbose=1)\n",
        "    # Evaluate the model on a validation set\n",
        "    validation_loss, validation_accuracy = model.evaluate(train_X,train_Y)\n",
        "\n",
        "    # Print the hyperparameters and validation performance\n",
        "    print('Model', i+1)\n",
        "    print('Num Layers:', num_layers)\n",
        "    print('Filters:', filters)\n",
        "    print('Kernel Size:', kernel_size)\n",
        "    print('Dropout Rate:', dropout_rate)\n",
        "    print('Validation Loss:', validation_loss)\n",
        "    print('Validation Accuracy:', validation_accuracy)"
      ],
      "metadata": {
        "colab": {
          "base_uri": "https://localhost:8080/",
          "height": 1000
        },
        "id": "abaNyZqX_fzH",
        "outputId": "964720f7-4ca2-46dc-8293-6b2f56302818"
      },
      "execution_count": null,
      "outputs": [
        {
          "output_type": "stream",
          "name": "stdout",
          "text": [
            "Epoch 1/30\n",
            "556/556 [==============================] - 72s 113ms/step - loss: 0.0582 - val_loss: 0.0052\n",
            "Epoch 2/30\n",
            "556/556 [==============================] - 58s 105ms/step - loss: 0.0030 - val_loss: 0.0014\n",
            "Epoch 3/30\n",
            "556/556 [==============================] - 60s 108ms/step - loss: 0.0016 - val_loss: 7.7089e-04\n",
            "Epoch 4/30\n",
            "556/556 [==============================] - 59s 105ms/step - loss: 0.0011 - val_loss: 0.0013\n",
            "Epoch 5/30\n",
            "556/556 [==============================] - 59s 106ms/step - loss: 6.9502e-04 - val_loss: 3.9460e-04\n",
            "Epoch 6/30\n",
            "556/556 [==============================] - 58s 104ms/step - loss: 5.3487e-04 - val_loss: 1.3765e-04\n",
            "Epoch 7/30\n",
            "556/556 [==============================] - 59s 106ms/step - loss: 4.0275e-04 - val_loss: 9.7004e-05\n",
            "Epoch 8/30\n",
            "556/556 [==============================] - 59s 106ms/step - loss: 3.5482e-04 - val_loss: 7.3713e-05\n",
            "Epoch 9/30\n",
            "556/556 [==============================] - 59s 105ms/step - loss: 2.7825e-04 - val_loss: 1.2199e-04\n",
            "Epoch 10/30\n",
            "556/556 [==============================] - 61s 109ms/step - loss: 2.5496e-04 - val_loss: 8.1805e-05\n",
            "Epoch 11/30\n",
            "556/556 [==============================] - 61s 109ms/step - loss: 2.2367e-04 - val_loss: 2.1243e-04\n",
            "Epoch 12/30\n",
            "556/556 [==============================] - 58s 103ms/step - loss: 2.0502e-04 - val_loss: 5.7701e-05\n",
            "Epoch 13/30\n",
            "556/556 [==============================] - 57s 103ms/step - loss: 1.9305e-04 - val_loss: 2.6396e-04\n",
            "Epoch 14/30\n",
            "556/556 [==============================] - 58s 105ms/step - loss: 1.7208e-04 - val_loss: 5.8746e-05\n",
            "Epoch 15/30\n",
            "556/556 [==============================] - 59s 107ms/step - loss: 1.7701e-04 - val_loss: 5.6523e-05\n",
            "Epoch 16/30\n",
            "556/556 [==============================] - 57s 103ms/step - loss: 1.4683e-04 - val_loss: 7.9261e-05\n",
            "Epoch 17/30\n",
            "556/556 [==============================] - 60s 107ms/step - loss: 1.4909e-04 - val_loss: 8.1458e-05\n",
            "Epoch 18/30\n",
            "556/556 [==============================] - 57s 102ms/step - loss: 1.6427e-04 - val_loss: 6.3474e-05\n",
            "Epoch 19/30\n",
            "556/556 [==============================] - 58s 104ms/step - loss: 1.4853e-04 - val_loss: 4.7470e-05\n",
            "Epoch 20/30\n",
            "556/556 [==============================] - 57s 102ms/step - loss: 1.4365e-04 - val_loss: 4.3368e-05\n",
            "Epoch 21/30\n",
            "556/556 [==============================] - 59s 105ms/step - loss: 1.4881e-04 - val_loss: 7.9491e-05\n",
            "Epoch 22/30\n",
            "556/556 [==============================] - 62s 111ms/step - loss: 1.2922e-04 - val_loss: 5.5093e-05\n",
            "Epoch 23/30\n",
            "556/556 [==============================] - 57s 102ms/step - loss: 1.3052e-04 - val_loss: 8.7256e-05\n",
            "Epoch 24/30\n",
            "556/556 [==============================] - 57s 103ms/step - loss: 1.1909e-04 - val_loss: 4.0751e-05\n",
            "Epoch 25/30\n",
            "556/556 [==============================] - 58s 104ms/step - loss: 1.3183e-04 - val_loss: 4.9881e-05\n",
            "Epoch 26/30\n",
            "556/556 [==============================] - 61s 110ms/step - loss: 1.2496e-04 - val_loss: 4.8032e-05\n",
            "Epoch 27/30\n",
            "556/556 [==============================] - 58s 103ms/step - loss: 1.2244e-04 - val_loss: 5.6219e-05\n",
            "Epoch 28/30\n",
            "556/556 [==============================] - 57s 103ms/step - loss: 1.1656e-04 - val_loss: 9.1095e-05\n",
            "Epoch 29/30\n",
            "556/556 [==============================] - 57s 103ms/step - loss: 1.1588e-04 - val_loss: 5.8938e-05\n",
            "Epoch 30/30\n",
            "556/556 [==============================] - 58s 104ms/step - loss: 1.0667e-04 - val_loss: 6.1780e-05\n",
            "654/654 [==============================] - 18s 27ms/step - loss: 8.6250e-05\n"
          ]
        },
        {
          "output_type": "error",
          "ename": "TypeError",
          "evalue": "ignored",
          "traceback": [
            "\u001b[0;31m---------------------------------------------------------------------------\u001b[0m",
            "\u001b[0;31mTypeError\u001b[0m                                 Traceback (most recent call last)",
            "\u001b[0;32m<ipython-input-38-33ae7c623d3c>\u001b[0m in \u001b[0;36m<module>\u001b[0;34m\u001b[0m\n\u001b[1;32m     12\u001b[0m     \u001b[0mhistory\u001b[0m\u001b[0;34m=\u001b[0m\u001b[0mmodel\u001b[0m\u001b[0;34m.\u001b[0m\u001b[0mfit\u001b[0m\u001b[0;34m(\u001b[0m\u001b[0mtrain_X\u001b[0m\u001b[0;34m,\u001b[0m\u001b[0mtrain_Y\u001b[0m\u001b[0;34m,\u001b[0m\u001b[0mepochs\u001b[0m\u001b[0;34m=\u001b[0m\u001b[0;36m30\u001b[0m\u001b[0;34m,\u001b[0m\u001b[0mvalidation_split\u001b[0m\u001b[0;34m=\u001b[0m\u001b[0;36m.15\u001b[0m\u001b[0;34m,\u001b[0m \u001b[0mverbose\u001b[0m\u001b[0;34m=\u001b[0m\u001b[0;36m1\u001b[0m\u001b[0;34m)\u001b[0m\u001b[0;34m\u001b[0m\u001b[0;34m\u001b[0m\u001b[0m\n\u001b[1;32m     13\u001b[0m     \u001b[0;31m# Evaluate the model on a validation set\u001b[0m\u001b[0;34m\u001b[0m\u001b[0;34m\u001b[0m\u001b[0;34m\u001b[0m\u001b[0m\n\u001b[0;32m---> 14\u001b[0;31m     \u001b[0mvalidation_loss\u001b[0m\u001b[0;34m,\u001b[0m \u001b[0mvalidation_accuracy\u001b[0m \u001b[0;34m=\u001b[0m \u001b[0mmodel\u001b[0m\u001b[0;34m.\u001b[0m\u001b[0mevaluate\u001b[0m\u001b[0;34m(\u001b[0m\u001b[0mtrain_X\u001b[0m\u001b[0;34m,\u001b[0m\u001b[0mtrain_Y\u001b[0m\u001b[0;34m)\u001b[0m\u001b[0;34m\u001b[0m\u001b[0;34m\u001b[0m\u001b[0m\n\u001b[0m\u001b[1;32m     15\u001b[0m \u001b[0;34m\u001b[0m\u001b[0m\n\u001b[1;32m     16\u001b[0m     \u001b[0;31m# Print the hyperparameters and validation performance\u001b[0m\u001b[0;34m\u001b[0m\u001b[0;34m\u001b[0m\u001b[0;34m\u001b[0m\u001b[0m\n",
            "\u001b[0;31mTypeError\u001b[0m: cannot unpack non-iterable float object"
          ]
        }
      ]
    },
    {
      "cell_type": "code",
      "source": [],
      "metadata": {
        "id": "ZW14Y4da_tjb"
      },
      "execution_count": null,
      "outputs": []
    }
  ],
  "metadata": {
    "colab": {
      "provenance": [],
      "include_colab_link": true
    },
    "kernelspec": {
      "display_name": "Python 3",
      "language": "python",
      "name": "python3"
    },
    "language_info": {
      "codemirror_mode": {
        "name": "ipython",
        "version": 3
      },
      "file_extension": ".py",
      "mimetype": "text/x-python",
      "name": "python",
      "nbconvert_exporter": "python",
      "pygments_lexer": "ipython3",
      "version": "3.8.8"
    }
  },
  "nbformat": 4,
  "nbformat_minor": 0
}